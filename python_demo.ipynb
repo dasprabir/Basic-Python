{
 "cells": [
  {
   "cell_type": "code",
   "execution_count": 1,
   "id": "ec6137b5",
   "metadata": {},
   "outputs": [],
   "source": [
    "a = ['apple','banana','republic']"
   ]
  },
  {
   "cell_type": "code",
   "execution_count": 3,
   "id": "8d23678d",
   "metadata": {},
   "outputs": [
    {
     "name": "stdout",
     "output_type": "stream",
     "text": [
      "apple\n",
      "banana\n",
      "republic\n"
     ]
    }
   ],
   "source": [
    "for item in a:\n",
    "    print(item)"
   ]
  },
  {
   "cell_type": "code",
   "execution_count": 6,
   "id": "ba320f56",
   "metadata": {},
   "outputs": [
    {
     "name": "stdout",
     "output_type": "stream",
     "text": [
      "apple\n",
      "banana\n",
      "banana\n",
      "republic\n",
      "republic\n",
      "republic\n"
     ]
    }
   ],
   "source": [
    "for i in range(len(a)):# 0,1,2\n",
    "    for j in range(i+1):\n",
    "        # i=0 -> j = 0 \n",
    "        # i=1 -> j = 0,1\n",
    "        # i=2 -> j=0,1,2\n",
    "        print(a[i])"
   ]
  },
  {
   "cell_type": "code",
   "execution_count": 7,
   "id": "1a251924",
   "metadata": {},
   "outputs": [
    {
     "name": "stdout",
     "output_type": "stream",
     "text": [
      "[1, 2, 3, 4, 5, 6, 7, 8, 9, 10, 11, 12, 13, 14, 15, 16, 17, 18, 19, 20, 21, 22, 23, 24, 25, 26, 27, 28, 29, 30, 31, 32, 33, 34, 35, 36, 37, 38, 39, 40, 41, 42, 43, 44, 45, 46, 47, 48, 49, 50, 51, 52, 53, 54, 55, 56, 57, 58, 59, 60, 61, 62, 63, 64, 65, 66, 67, 68, 69, 70, 71, 72, 73, 74, 75, 76, 77, 78, 79, 80, 81, 82, 83, 84, 85, 86, 87, 88, 89, 90, 91, 92, 93, 94, 95, 96, 97, 98, 99]\n"
     ]
    }
   ],
   "source": [
    "print(list(range(1,100)))\n",
    "# Compute sum of all the integers that are multiple of 3 and 5 and under 100"
   ]
  },
  {
   "cell_type": "code",
   "execution_count": 8,
   "id": "8529a832",
   "metadata": {},
   "outputs": [
    {
     "name": "stdout",
     "output_type": "stream",
     "text": [
      "2318\n"
     ]
    }
   ],
   "source": [
    "total = 0\n",
    "for i in range(1,100):\n",
    "    if i%3 == 0 :      # if i% == 0 or i%5 == 0: total += 0\n",
    "        total += i\n",
    "    elif i%5 == 0:\n",
    "        total+=i\n",
    "print(total)"
   ]
  },
  {
   "cell_type": "code",
   "execution_count": 13,
   "id": "7bd82069",
   "metadata": {},
   "outputs": [
    {
     "name": "stdout",
     "output_type": "stream",
     "text": [
      "-17\n"
     ]
    }
   ],
   "source": [
    "given_list = [7, 5, 4, 4, 3, 1, -2, -3, -5 ,-7 ]\n",
    "total2 = 0\n",
    "l=[]\n",
    "for item in given_list:\n",
    "    if item < 0 :\n",
    "        l.append(item)\n",
    "print(sum(l))"
   ]
  },
  {
   "cell_type": "code",
   "execution_count": 17,
   "id": "4d5a17f9",
   "metadata": {},
   "outputs": [
    {
     "name": "stdout",
     "output_type": "stream",
     "text": [
      "-17\n"
     ]
    }
   ],
   "source": [
    "given_list = [7, 5, 4, 4, 3, 1, -2, -3, -5 ,-7 ]\n",
    "\n",
    "tot = 0\n",
    "j = len(given_list) - 1\n",
    "while given_list[j] < 0:\n",
    "    tot += given_list[j]\n",
    "    j -= 1\n",
    "print(tot)"
   ]
  },
  {
   "cell_type": "code",
   "execution_count": 18,
   "id": "0fd94495",
   "metadata": {},
   "outputs": [],
   "source": [
    "d = {}\n",
    "# d = {\"Gorge\":24 , \"Tom\":32}"
   ]
  },
  {
   "cell_type": "code",
   "execution_count": 19,
   "id": "f903b407",
   "metadata": {},
   "outputs": [],
   "source": [
    "d[\"Gorge\"] = 24\n",
    "d[\"Tom\"] = 32\n",
    "d[\"Jenny\"] = 16"
   ]
  },
  {
   "cell_type": "code",
   "execution_count": 20,
   "id": "a5bc43cc",
   "metadata": {},
   "outputs": [
    {
     "name": "stdout",
     "output_type": "stream",
     "text": [
      "24\n"
     ]
    }
   ],
   "source": [
    "print(d[\"Gorge\"])"
   ]
  },
  {
   "cell_type": "code",
   "execution_count": 21,
   "id": "b5f754cd",
   "metadata": {},
   "outputs": [
    {
     "data": {
      "text/plain": [
       "{'Gorge': 24, 'Tom': 32, 'Jenny': 16}"
      ]
     },
     "execution_count": 21,
     "metadata": {},
     "output_type": "execute_result"
    }
   ],
   "source": [
    "d"
   ]
  },
  {
   "cell_type": "code",
   "execution_count": 24,
   "id": "d94d5dcc",
   "metadata": {},
   "outputs": [
    {
     "name": "stdout",
     "output_type": "stream",
     "text": [
      "key:\n",
      "Gorge\n",
      "values\n",
      "24\n",
      " \n",
      "key:\n",
      "Tom\n",
      "values\n",
      "32\n",
      " \n",
      "key:\n",
      "Jenny\n",
      "values\n",
      "16\n",
      " \n"
     ]
    }
   ],
   "source": [
    "for key,value in d.items():\n",
    "    print(\"key:\")\n",
    "    print(key)\n",
    "    print(\"values\")\n",
    "    print(value)\n",
    "    print(\" \")"
   ]
  },
  {
   "cell_type": "code",
   "execution_count": null,
   "id": "297f3507",
   "metadata": {},
   "outputs": [],
   "source": [
    "class Robot:\n",
    "    def introduce_self():\n",
    "        print(\"My name is \" +  self.name)"
   ]
  }
 ],
 "metadata": {
  "kernelspec": {
   "display_name": "Python 3 (ipykernel)",
   "language": "python",
   "name": "python3"
  },
  "language_info": {
   "codemirror_mode": {
    "name": "ipython",
    "version": 3
   },
   "file_extension": ".py",
   "mimetype": "text/x-python",
   "name": "python",
   "nbconvert_exporter": "python",
   "pygments_lexer": "ipython3",
   "version": "3.9.7"
  }
 },
 "nbformat": 4,
 "nbformat_minor": 5
}
